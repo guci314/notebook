{
 "cells": [
  {
   "cell_type": "markdown",
   "metadata": {},
   "source": [
    "# test\n",
    "https://github.com/SpencerPark/IJava\n",
    "\n",
    "%maven com.typesafe.akka:akka-actor-typed_2.13:2.6.8\n",
    "List<String> added = %jars /home/guci/.m2/repository/com/typesafe/akka/akka-actor_2.11/2.4.20/*.jar"
   ]
  },
  {
   "cell_type": "code",
   "execution_count": 1,
   "metadata": {},
   "outputs": [],
   "source": [
    "%%loadFromPOM\n",
    "<dependency>\n",
    "    <groupId>com.typesafe.akka</groupId>\n",
    "    <artifactId>akka-actor-typed_2.13</artifactId>\n",
    "    <version>2.6.8</version>\n",
    "</dependency>\n",
    "<dependency>\n",
    "    <groupId>ch.qos.logback</groupId>\n",
    "    <artifactId>logback-classic</artifactId>\n",
    "    <version>1.2.3</version>\n",
    "</dependency>\n"
   ]
  },
  {
   "cell_type": "code",
   "execution_count": 2,
   "metadata": {},
   "outputs": [
    {
     "name": "stdout",
     "output_type": "stream",
     "text": [
      "ff\n"
     ]
    }
   ],
   "source": [
    "import java.util.HashMap;\n",
    "HashMap<String, String> capitalCities = new HashMap<String, String>();\n",
    "\n",
    "capitalCities.put(\"df\",\"ff\");\n",
    "String s=capitalCities.get(\"df\");\n",
    "System.out.println(s)"
   ]
  },
  {
   "cell_type": "markdown",
   "metadata": {},
   "source": [
    "# akka\n",
    "https://developer.lightbend.com/start/?group=akka"
   ]
  },
  {
   "cell_type": "code",
   "execution_count": 3,
   "metadata": {},
   "outputs": [],
   "source": [
    "import akka.actor.typed.ActorRef;\n",
    "import akka.actor.typed.Behavior;\n",
    "import akka.actor.typed.javadsl.*;\n",
    "import akka.actor.typed.ActorSystem;\n",
    "import java.io.IOException;"
   ]
  },
  {
   "cell_type": "code",
   "execution_count": 18,
   "metadata": {
    "code_folding": [
     2,
     14
    ]
   },
   "outputs": [],
   "source": [
    "public class TestActor extends AbstractBehavior<TestActor.HelloMsg> {\n",
    "\n",
    "    public static class HelloMsg {\n",
    "        public final String name;\n",
    "\n",
    "        public HelloMsg(String name) {\n",
    "            this.name = name;\n",
    "        }\n",
    "    }\n",
    "    \n",
    "    public static Behavior<HelloMsg> create() {\n",
    "        return Behaviors.setup(TestActor::new);\n",
    "    }\n",
    "    \n",
    "    public TestActor(ActorContext<TestActor.HelloMsg> context) {\n",
    "        super(context);\n",
    "    }\n",
    "    \n",
    "    @Override\n",
    "    public Receive<HelloMsg> createReceive() {\n",
    "        return newReceiveBuilder().onMessage(HelloMsg.class, this::onHelloMsg).build();\n",
    "    }\n",
    "    \n",
    "    private Behavior<HelloMsg> onHelloMsg(HelloMsg command) {\n",
    "        System.out.println(\"hello from TestActor,\"+command.name);\n",
    "        return this;\n",
    "    }\n",
    "}"
   ]
  },
  {
   "cell_type": "code",
   "execution_count": 19,
   "metadata": {},
   "outputs": [
    {
     "name": "stdout",
     "output_type": "stream",
     "text": [
      "04:31:48.323 [test-akka.actor.default-dispatcher-6] INFO akka.event.slf4j.Slf4jLogger - Slf4jLogger started\n",
      "hello from TestActor,fff\n"
     ]
    }
   ],
   "source": [
    "//#actor-system\n",
    "final ActorSystem<TestActor.HelloMsg> testMain = ActorSystem.create(Behaviors.setup(TestActor::new), \"test\");\n",
    "//#actor-system\n",
    "\n",
    "//#main-send-messages\n",
    "testMain.tell(new TestActor.HelloMsg(\"fff\"));\n",
    "//#main-send-messages\n",
    "\n",
    "testMain.terminate();"
   ]
  },
  {
   "cell_type": "code",
   "execution_count": 20,
   "metadata": {
    "code_folding": [
     2
    ]
   },
   "outputs": [],
   "source": [
    "public class GreeterMain extends AbstractBehavior<GreeterMain.SayHello> {\n",
    "\n",
    "    public static class SayHello {\n",
    "        public final String name;\n",
    "\n",
    "        public SayHello(String name) {\n",
    "            this.name = name;\n",
    "        }\n",
    "    }\n",
    "\n",
    "    public static Behavior<SayHello> create() {\n",
    "        return Behaviors.setup(GreeterMain::new);\n",
    "    }\n",
    "\n",
    "    private GreeterMain(ActorContext<SayHello> context) {\n",
    "        super(context);\n",
    "        //#create-actors\n",
    "        //greeter = context.spawn(Greeter.create(), \"greeter\");\n",
    "        //#create-actors\n",
    "    }\n",
    "\n",
    "    @Override\n",
    "    public Receive<SayHello> createReceive() {\n",
    "        return newReceiveBuilder().onMessage(SayHello.class, this::onSayHello).build();\n",
    "    }\n",
    "\n",
    "    private Behavior<SayHello> onSayHello(SayHello command) {\n",
    "        ActorRef<TestActor.HelloMsg> testActor =\n",
    "               getContext().spawn(TestActor.create(), \"testActor\");\n",
    "        testActor.tell(new TestActor.HelloMsg(\"guci\"));\n",
    "        System.out.println(\"aaaaaa\");\n",
    "        return this;\n",
    "    }\n",
    "}\n"
   ]
  },
  {
   "cell_type": "code",
   "execution_count": 21,
   "metadata": {},
   "outputs": [
    {
     "name": "stdout",
     "output_type": "stream",
     "text": [
      "04:32:03.109 [helloakka-akka.actor.default-dispatcher-3] INFO akka.event.slf4j.Slf4jLogger - Slf4jLogger started\n",
      "hello from TestActor,guci\n",
      "aaaaaa\n"
     ]
    }
   ],
   "source": [
    "//#actor-system\n",
    "final ActorSystem<GreeterMain.SayHello> greeterMain = ActorSystem.create(GreeterMain.create(), \"helloakka\");\n",
    "//#actor-system\n",
    "\n",
    "//#main-send-messages\n",
    "greeterMain.tell(new GreeterMain.SayHello(\"Charles\"));\n",
    "//#main-send-messages\n",
    "\n",
    "greeterMain.terminate();"
   ]
  },
  {
   "cell_type": "markdown",
   "metadata": {},
   "source": [
    "# 异步编程"
   ]
  },
  {
   "cell_type": "code",
   "execution_count": 8,
   "metadata": {},
   "outputs": [
    {
     "data": {
      "text/plain": [
       "13.0.1"
      ]
     },
     "execution_count": 8,
     "metadata": {},
     "output_type": "execute_result"
    }
   ],
   "source": [
    "System.getProperty(\"java.version\");"
   ]
  },
  {
   "cell_type": "code",
   "execution_count": 9,
   "metadata": {},
   "outputs": [
    {
     "data": {
      "text/plain": [
       "13.0.1+9-Ubuntu-216.04.1"
      ]
     },
     "execution_count": 9,
     "metadata": {},
     "output_type": "execute_result"
    }
   ],
   "source": [
    "Runtime.version()"
   ]
  },
  {
   "cell_type": "code",
   "execution_count": 22,
   "metadata": {},
   "outputs": [
    {
     "name": "stdout",
     "output_type": "stream",
     "text": [
      "I am working\n"
     ]
    }
   ],
   "source": [
    "CompletableFuture<String> future = CompletableFuture.supplyAsync(() -> {\n",
    "//     try {\n",
    "//         TimeUnit.SECONDS.sleep(1);\n",
    "//     } catch (InterruptedException e) {\n",
    "//         throw new IllegalStateException(e);\n",
    "//     }\n",
    "    System.out.println(\"I am working\");\n",
    "    return \"Result of the asynchronous computation\";\n",
    "});\n",
    "//String x=future.get();\n",
    "//System.out.println(x);\n",
    "//future.get()"
   ]
  },
  {
   "cell_type": "code",
   "execution_count": 11,
   "metadata": {},
   "outputs": [
    {
     "name": "stdout",
     "output_type": "stream",
     "text": [
      "I'll run in a separate thread than the main thread.\n"
     ]
    }
   ],
   "source": [
    "CompletableFuture<Void> future = CompletableFuture.runAsync(() -> {\n",
    "    // Simulate a long-running Job   \n",
    "    try {\n",
    "        TimeUnit.SECONDS.sleep(1);\n",
    "    } catch (InterruptedException e) {\n",
    "        throw new IllegalStateException(e);\n",
    "    }\n",
    "    System.out.println(\"I'll run in a separate thread than the main thread.\");\n",
    "});\n",
    "future.get();"
   ]
  },
  {
   "cell_type": "code",
   "execution_count": 12,
   "metadata": {},
   "outputs": [
    {
     "name": "stdout",
     "output_type": "stream",
     "text": [
      "Result of the asynchronous computation\n"
     ]
    }
   ],
   "source": [
    "import java.util.function.Supplier;\n",
    "// Run a task specified by a Supplier object asynchronously\n",
    "CompletableFuture<String> future = CompletableFuture.supplyAsync(new Supplier<String>() {\n",
    "    @Override\n",
    "    public String get() {\n",
    "        try {\n",
    "            TimeUnit.SECONDS.sleep(1);\n",
    "        } catch (InterruptedException e) {\n",
    "            throw new IllegalStateException(e);\n",
    "        }\n",
    "        return \"Result of the asynchronous computation\";\n",
    "    }\n",
    "});\n",
    "\n",
    "// Block and get the result of the Future\n",
    "String result = future.get();\n",
    "System.out.println(result);\n"
   ]
  },
  {
   "cell_type": "code",
   "execution_count": 13,
   "metadata": {},
   "outputs": [
    {
     "data": {
      "text/plain": [
       "Result of the asynchronous computation"
      ]
     },
     "execution_count": 13,
     "metadata": {},
     "output_type": "execute_result"
    }
   ],
   "source": [
    "Executor executor = Executors.newFixedThreadPool(10);\n",
    "CompletableFuture<String> future = CompletableFuture.supplyAsync(() -> {\n",
    "    try {\n",
    "        TimeUnit.SECONDS.sleep(1);\n",
    "    } catch (InterruptedException e) {\n",
    "        throw new IllegalStateException(e);\n",
    "    }\n",
    "    return \"Result of the asynchronous computation\";\n",
    "}, executor);\n",
    "future.get();"
   ]
  },
  {
   "cell_type": "code",
   "execution_count": 14,
   "metadata": {},
   "outputs": [
    {
     "name": "stdout",
     "output_type": "stream",
     "text": [
      "Hello Rajeev\n"
     ]
    }
   ],
   "source": [
    "// Create a CompletableFuture\n",
    "CompletableFuture<String> whatsYourNameFuture = CompletableFuture.supplyAsync(() -> {\n",
    "   return \"Rajeev\";\n",
    "});\n",
    "\n",
    "// Attach a callback to the Future using thenApply()\n",
    "CompletableFuture<String> greetingFuture = whatsYourNameFuture.thenApply(name -> {\n",
    "   return \"Hello \" + name;\n",
    "});\n",
    "\n",
    "// Block and get the result of the future.\n",
    "System.out.println(greetingFuture.get()); // Hello Rajeev\n",
    "\n"
   ]
  },
  {
   "cell_type": "code",
   "execution_count": 15,
   "metadata": {},
   "outputs": [
    {
     "name": "stdout",
     "output_type": "stream",
     "text": [
      "ddddd\n",
      "Executing111...\n"
     ]
    }
   ],
   "source": [
    "import java.util.function.Function;\n",
    "Function<String,String> f = (String s) -> {\n",
    "    System.out.println(\"Executing111...\");\n",
    "    return s+\" fffffff\";\n",
    "};\n",
    "\n",
    "CompletableFuture<String> welcomeText = CompletableFuture.supplyAsync(() -> {\n",
    "    return \"Rajeev\";\n",
    "}).thenApply(name -> {\n",
    "    System.out.println(\"ddddd\");\n",
    "    return \"Hello \" + name;\n",
    "}).thenApply(greeting -> {\n",
    "    return greeting + \", Welcome to the CalliCoder Blog\";\n",
    "})\n",
    ".thenApply(f);\n",
    "\n",
    "//System.out.println(welcomeText.get());\n",
    "\n"
   ]
  },
  {
   "cell_type": "code",
   "execution_count": 16,
   "metadata": {},
   "outputs": [
    {
     "name": "stdout",
     "output_type": "stream",
     "text": [
      "ddddd\n",
      "ppppp\n"
     ]
    }
   ],
   "source": [
    "CompletableFuture future=CompletableFuture.runAsync(()->{\n",
    "    System.out.println(\"ddddd\");\n",
    "});\n",
    "System.out.println(\"ppppp\");"
   ]
  },
  {
   "cell_type": "code",
   "execution_count": 17,
   "metadata": {},
   "outputs": [
    {
     "name": "stdout",
     "output_type": "stream",
     "text": [
      "ddddd\n"
     ]
    },
    {
     "data": {
      "text/plain": [
       "java.util.concurrent.CompletableFuture@aa14204[Not completed]"
      ]
     },
     "execution_count": 17,
     "metadata": {},
     "output_type": "execute_result"
    }
   ],
   "source": [
    "Executor executor = Executors.newFixedThreadPool(2);\n",
    "CompletableFuture.supplyAsync(() -> {\n",
    "    System.out.println(\"ddddd\");\n",
    "    return \"Some result\";\n",
    "}).thenApplyAsync(result -> {\n",
    "    // Executed in a thread obtained from the executor\n",
    "    System.out.println(\"mmmm\");\n",
    "    return \"Processed Result\";\n",
    "}, executor);\n"
   ]
  }
 ],
 "metadata": {
  "kernelspec": {
   "display_name": "Java",
   "language": "java",
   "name": "java"
  },
  "language_info": {
   "codemirror_mode": "java",
   "file_extension": ".jshell",
   "mimetype": "text/x-java-source",
   "name": "Java",
   "pygments_lexer": "java",
   "version": "13.0.1+9-Ubuntu-216.04.1"
  },
  "toc": {
   "base_numbering": 1,
   "nav_menu": {},
   "number_sections": true,
   "sideBar": true,
   "skip_h1_title": false,
   "title_cell": "Table of Contents",
   "title_sidebar": "Contents",
   "toc_cell": false,
   "toc_position": {},
   "toc_section_display": true,
   "toc_window_display": false
  },
  "varInspector": {
   "cols": {
    "lenName": 16,
    "lenType": 16,
    "lenVar": 40
   },
   "kernels_config": {
    "python": {
     "delete_cmd_postfix": "",
     "delete_cmd_prefix": "del ",
     "library": "var_list.py",
     "varRefreshCmd": "print(var_dic_list())"
    },
    "r": {
     "delete_cmd_postfix": ") ",
     "delete_cmd_prefix": "rm(",
     "library": "var_list.r",
     "varRefreshCmd": "cat(var_dic_list()) "
    }
   },
   "types_to_exclude": [
    "module",
    "function",
    "builtin_function_or_method",
    "instance",
    "_Feature"
   ],
   "window_display": false
  }
 },
 "nbformat": 4,
 "nbformat_minor": 2
}
