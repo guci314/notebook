{
 "cells": [
  {
   "cell_type": "code",
   "execution_count": 2,
   "metadata": {},
   "outputs": [],
   "source": [
    "if get_ipython().Completer.use_jedi==True:\n",
    "\tget_ipython().Completer.use_jedi=False\n",
    "else:\n",
    "\tget_ipython().Completer.use_jedi=True"
   ]
  },
  {
   "cell_type": "code",
   "execution_count": 18,
   "metadata": {},
   "outputs": [
    {
     "data": {
      "application/javascript": [
       "\n",
       "IPython.keyboard_manager.edit_shortcuts.add_shortcut('ctrl-enter', {\n",
       "\thelp : \"run cell and keep focus\", //This is optional\n",
       "\thandler : function (event) {\n",
       "\t\tIPython.notebook.execute_cell();\n",
       "\t\tIPython.notebook.edit_mode();\n",
       "\t\treturn false;\n",
       "\t}}\n",
       ");\n",
       "\n",
       "IPython.keyboard_manager.edit_shortcuts.add_shortcut('ctrl-x', {\n",
       "\thelp : \"jedi\", //This is optional\n",
       "\thandler : function (event) {\n",
       "\t\tvar index=IPython.notebook.get_edit_index();\n",
       "\t\tIPython.notebook.execute_cells([0]);\n",
       "\t\tIPython.notebook.get_cell(index).focus_cell();\n",
       "\t\tIPython.notebook.edit_mode();\n",
       "\t\treturn false;\n",
       "\t}}\n",
       ");\n"
      ],
      "text/plain": [
       "<IPython.core.display.Javascript object>"
      ]
     },
     "metadata": {},
     "output_type": "display_data"
    }
   ],
   "source": [
    "%%javascript\n",
    "\n",
    "IPython.keyboard_manager.edit_shortcuts.add_shortcut('ctrl-enter', {\n",
    "\thelp : \"run cell and keep focus\", //This is optional\n",
    "\thandler : function (event) {\n",
    "\t\tIPython.notebook.execute_cell();\n",
    "\t\tIPython.notebook.edit_mode();\n",
    "\t\treturn false;\n",
    "\t}}\n",
    ");\n",
    "\n",
    "IPython.keyboard_manager.edit_shortcuts.add_shortcut('ctrl-x', {\n",
    "\thelp : \"jedi\", //This is optional\n",
    "\thandler : function (event) {\n",
    "\t\tvar index=IPython.notebook.get_edit_index();\n",
    "\t\tIPython.notebook.execute_cells([0]);\n",
    "\t\tIPython.notebook.get_cell(index).focus_cell();\n",
    "\t\tIPython.notebook.edit_mode();\n",
    "\t\treturn false;\n",
    "\t}}\n",
    ");\n"
   ]
  },
  {
   "cell_type": "code",
   "execution_count": 3,
   "metadata": {},
   "outputs": [],
   "source": [
    "%config IPCompleter.greedy=True\n",
    "from IPython.core.interactiveshell import InteractiveShell \n",
    "InteractiveShell.ast_node_interactivity='all'\n",
    "get_ipython().Completer.use_jedi = False"
   ]
  },
  {
   "cell_type": "markdown",
   "metadata": {},
   "source": [
    "# 方程式求解"
   ]
  },
  {
   "cell_type": "code",
   "execution_count": 4,
   "metadata": {},
   "outputs": [],
   "source": [
    "from sympy.interactive import printing\n",
    "printing.init_printing(use_latex=True)\n",
    "from sympy import Eq , solve_linear_system,Matrix\n",
    "from sympy.solvers.solveset import linsolve\n",
    "from numpy import linalg\n",
    "import numpy as np\n",
    "import sympy as sp"
   ]
  },
  {
   "cell_type": "code",
   "execution_count": 5,
   "metadata": {},
   "outputs": [
    {
     "data": {
      "image/png": "[encoded data removed]",
      "text/latex": [
       "$$2 x - y = -4$$"
      ],
      "text/plain": [
       "2⋅x - y = -4"
      ]
     },
     "metadata": {},
     "output_type": "display_data"
    },
    {
     "data": {
      "image/png": "[encoded data removed]",
      "text/latex": [
       "$$3 x - y = -2$$"
      ],
      "text/plain": [
       "3⋅x - y = -2"
      ]
     },
     "metadata": {},
     "output_type": "display_data"
    },
    {
     "data": {
      "image/png": "[encoded data removed]",
      "text/latex": [
       "$$\\left \\{ x : 2, \\quad y : 8\\right \\}$$"
      ],
      "text/plain": [
       "{x: 2, y: 8}"
      ]
     },
     "execution_count": 5,
     "metadata": {},
     "output_type": "execute_result"
    }
   ],
   "source": [
    "x,y=sp.symbols('x y')\n",
    "# just for display\n",
    "eq1=Eq(2*x-y,-4)\n",
    "eq2=Eq(3*x-y,-2)\n",
    "display(eq1)\n",
    "display(eq2)\n",
    "# ----------------\n",
    "row1=(2,-1,-4)\n",
    "row2=(3,-1,-2)\n",
    "system=Matrix((row1,row2))\n",
    "solve_linear_system(system,x,y)"
   ]
  },
  {
   "cell_type": "code",
   "execution_count": 90,
   "metadata": {},
   "outputs": [
    {
     "data": {
      "image/png": "[encoded data removed]",
      "text/latex": [
       "$$\\left\\{\\left ( 2, \\quad 8\\right )\\right\\}$$"
      ],
      "text/plain": [
       "{(2, 8)}"
      ]
     },
     "execution_count": 90,
     "metadata": {},
     "output_type": "execute_result"
    }
   ],
   "source": [
    "linsolve([2*x-y+4,\n",
    "          3*x-y+2],\n",
    "         x,y)"
   ]
  },
  {
   "cell_type": "code",
   "execution_count": 109,
   "metadata": {},
   "outputs": [
    {
     "data": {
      "image/png": "[encoded data removed]",
      "text/latex": [
       "$$2 x - y = -4$$"
      ],
      "text/plain": [
       "2⋅x - y = -4"
      ]
     },
     "metadata": {},
     "output_type": "display_data"
    },
    {
     "data": {
      "image/png": "[encoded data removed]",
      "text/latex": [
       "$$3 x - y = -2$$"
      ],
      "text/plain": [
       "3⋅x - y = -2"
      ]
     },
     "metadata": {},
     "output_type": "display_data"
    },
    {
     "data": {
      "image/png": "[encoded data removed]",
      "text/latex": [
       "$$\\left \\{ x : 2, \\quad y : 8\\right \\}$$"
      ],
      "text/plain": [
       "{x: 2, y: 8}"
      ]
     },
     "metadata": {},
     "output_type": "display_data"
    }
   ],
   "source": [
    "import sympy as sp\n",
    "x, y = sp.symbols('x, y')\n",
    "eq1 = sp.Eq(2*x -y , -4)             \n",
    "eq2 = sp.Eq(3*x -y, -2)         \n",
    "ans = sp.solve((eq1, eq2), (x, y))\n",
    "display(eq1)\n",
    "display(eq2)\n",
    "display(ans)"
   ]
  },
  {
   "cell_type": "code",
   "execution_count": 89,
   "metadata": {},
   "outputs": [
    {
     "data": {
      "text/plain": [
       "array([ 2., -8.])"
      ]
     },
     "execution_count": 89,
     "metadata": {},
     "output_type": "execute_result"
    }
   ],
   "source": [
    "A=[[2,1],[3,1]]\n",
    "s=[-4,-2]\n",
    "r=np.linalg.solve(A,s)\n",
    "r"
   ]
  },
  {
   "cell_type": "markdown",
   "metadata": {},
   "source": [
    "# Solver\n",
    "来源 http://apmonitor.com/che263/index.php/Main/PythonOptimization"
   ]
  },
  {
   "cell_type": "code",
   "execution_count": 2,
   "metadata": {},
   "outputs": [
    {
     "name": "stdout",
     "output_type": "stream",
     "text": [
      "Initial Objective: 16.0\n",
      "Final Objective: 17.01401724563517\n",
      "Solution\n",
      "x1 = 1.0\n",
      "x2 = 4.742996096883977\n",
      "x3 = 3.8211546234095715\n",
      "x4 = 1.379407645075325\n"
     ]
    }
   ],
   "source": [
    "import numpy as np\n",
    "from scipy.optimize import minimize\n",
    "\n",
    "def objective(x):\n",
    "    return x[0]*x[3]*(x[0]+x[1]+x[2])+x[2]\n",
    "\n",
    "def constraint1(x):\n",
    "    return x[0]*x[1]*x[2]*x[3]-25.0\n",
    "\n",
    "def constraint2(x):\n",
    "    sum_eq = 40.0\n",
    "    for i in range(4):\n",
    "        sum_eq = sum_eq - x[i]**2\n",
    "    return sum_eq\n",
    "\n",
    "# initial guesses\n",
    "n = 4\n",
    "x0 = np.zeros(n)\n",
    "x0[0] = 1.0\n",
    "x0[1] = 5.0\n",
    "x0[2] = 5.0\n",
    "x0[3] = 1.0\n",
    "\n",
    "# show initial objective\n",
    "print('Initial Objective: ' + str(objective(x0)))\n",
    "\n",
    "# optimize\n",
    "b = (1.0,5.0)\n",
    "bnds = (b, b, b, b)\n",
    "con1 = {'type': 'ineq', 'fun': constraint1} \n",
    "con2 = {'type': 'eq', 'fun': constraint2}\n",
    "cons = ([con1,con2])\n",
    "solution = minimize(objective,x0,method='SLSQP',\\\n",
    "                    bounds=bnds,constraints=cons)\n",
    "x = solution.x\n",
    "\n",
    "# show final objective\n",
    "print('Final Objective: ' + str(objective(x)))\n",
    "\n",
    "# print solution\n",
    "print('Solution')\n",
    "print('x1 = ' + str(x[0]))\n",
    "print('x2 = ' + str(x[1]))\n",
    "print('x3 = ' + str(x[2]))\n",
    "print('x4 = ' + str(x[3]))"
   ]
  },
  {
   "cell_type": "markdown",
   "metadata": {},
   "source": [
    "# 解非线性方程组-nonlinsolve（）"
   ]
  },
  {
   "cell_type": "code",
   "execution_count": 7,
   "metadata": {},
   "outputs": [
    {
     "data": {
      "image/png": "[encoded data removed]",
      "text/latex": [
       "$$\\left\\{\\left ( -1, \\quad 1\\right ), \\left ( -1, \\quad - \\frac{1}{2} - \\frac{\\sqrt{3} i}{2}\\right ), \\left ( -1, \\quad - \\frac{1}{2} + \\frac{\\sqrt{3} i}{2}\\right ), \\left ( 1 - i, \\quad -1 + i\\right ), \\left ( 1 + i, \\quad -1 - i\\right ), \\left ( 1 - \\frac{i \\sqrt{- 6 \\sqrt{3} + 12}}{2} - \\frac{i \\sqrt{- 2 \\sqrt{3} + 4}}{2}, \\quad \\frac{1}{2} + \\frac{\\sqrt{3}}{2} + \\frac{\\sqrt{2} \\sqrt{-2 + \\sqrt{3}}}{2}\\right ), \\left ( 1 - \\frac{\\sqrt{-12 - 6 \\sqrt{3}}}{2} + \\frac{\\sqrt{-4 - 2 \\sqrt{3}}}{2}, \\quad - \\frac{\\sqrt{3}}{2} + \\frac{1}{2} - \\frac{\\sqrt{-8 + \\left(- \\sqrt{3} + 1\\right)^{2}}}{2}\\right ), \\left ( 1 - \\frac{\\sqrt{-4 - 2 \\sqrt{3}}}{2} + \\frac{\\sqrt{-12 - 6 \\sqrt{3}}}{2}, \\quad - \\frac{\\sqrt{3}}{2} + \\frac{1}{2} + \\frac{\\sqrt{-8 + \\left(- \\sqrt{3} + 1\\right)^{2}}}{2}\\right ), \\left ( 1 + \\frac{\\sqrt{-4 + 2 \\sqrt{3}}}{2} + \\frac{\\sqrt{-12 + 6 \\sqrt{3}}}{2}, \\quad \\frac{1}{2} + \\frac{\\sqrt{3}}{2} - \\frac{\\sqrt{2} \\sqrt{-2 + \\sqrt{3}}}{2}\\right )\\right\\}$$"
      ],
      "text/plain": [
       "⎧                                                                             \n",
       "⎪                                                                             \n",
       "⎨         ⎛      1   √3⋅ⅈ⎞  ⎛      1   √3⋅ⅈ⎞                                  \n",
       "⎪(-1, 1), ⎜-1, - ─ - ────⎟, ⎜-1, - ─ + ────⎟, (1 - ⅈ, -1 + ⅈ), (1 + ⅈ, -1 - ⅈ)\n",
       "⎩         ⎝      2    2  ⎠  ⎝      2    2  ⎠                                  \n",
       "\n",
       "                                                                     ⎛        \n",
       "  ⎛        ____________       ___________                _________⎞  ⎜      __\n",
       "  ⎜    ⅈ⋅╲╱ -6⋅√3 + 12    ⅈ⋅╲╱ -2⋅√3 + 4   1   √3   √2⋅╲╱ -2 + √3 ⎟  ⎜    ╲╱ -\n",
       ", ⎜1 - ──────────────── - ───────────────, ─ + ── + ──────────────⎟, ⎜1 - ────\n",
       "  ⎝           2                  2         2   2          2       ⎠  ⎝        \n",
       "\n",
       "                                          _________________⎞  ⎛               \n",
       "__________     ___________               ╱               2 ⎟  ⎜      _________\n",
       "12 - 6⋅√3    ╲╱ -4 - 2⋅√3     √3   1   ╲╱  -8 + (-√3 + 1)  ⎟  ⎜    ╲╱ -4 - 2⋅√\n",
       "────────── + ─────────────, - ── + ─ - ────────────────────⎟, ⎜1 - ───────────\n",
       "  2                2          2    2            2          ⎠  ⎝          2    \n",
       "\n",
       "                                   _________________⎞                         \n",
       "__     ____________               ╱               2 ⎟  ⎛      ___________     \n",
       "3    ╲╱ -12 - 6⋅√3     √3   1   ╲╱  -8 + (-√3 + 1)  ⎟  ⎜    ╲╱ -4 + 2⋅√3    ╲╱\n",
       "── + ──────────────, - ── + ─ + ────────────────────⎟, ⎜1 + ───────────── + ──\n",
       "           2           2    2            2          ⎠  ⎝          2           \n",
       "\n",
       "                                      ⎫\n",
       "____________                _________⎞⎪\n",
       " -12 + 6⋅√3   1   √3   √2⋅╲╱ -2 + √3 ⎟⎬\n",
       "────────────, ─ + ── - ──────────────⎟⎪\n",
       "    2         2   2          2       ⎠⎭"
      ]
     },
     "metadata": {},
     "output_type": "display_data"
    }
   ],
   "source": [
    "\"\"\"\n",
    "    x**2+y**2-2=0\n",
    "    x**3+y**3=0\n",
    "\"\"\"\n",
    "\n",
    "import sympy as sy\n",
    "x, y = sy.symbols(\"x y\")\n",
    "\n",
    "eq = [x**2+y**3-2, x**3+y**3]\n",
    "result = sy.nonlinsolve(eq, [x, y])\n",
    "display(result)"
   ]
  },
  {
   "cell_type": "code",
   "execution_count": 10,
   "metadata": {},
   "outputs": [
    {
     "data": {
      "image/png": "[encoded data removed]",
      "text/latex": [
       "$$16$$"
      ],
      "text/plain": [
       "16"
      ]
     },
     "execution_count": 10,
     "metadata": {},
     "output_type": "execute_result"
    }
   ],
   "source": [
    "import sympy as sy\n",
    "x, y = sy.symbols(\"x y z\")\n",
    "\n",
    "eq = [x**2+y**2-z**2, x**3+y**3]\n",
    "result = sy.nonlinsolve(eq, [x, y])\n",
    "display(result)"
   ]
  },
  {
   "cell_type": "code",
   "execution_count": 9,
   "metadata": {},
   "outputs": [
    {
     "data": {
      "image/png": "[encoded data removed]",
      "text/latex": [
       "$$\\frac{\\sin{\\left (x \\right )}}{x}$$"
      ],
      "text/plain": [
       "sin(x)\n",
       "──────\n",
       "  x   "
      ]
     },
     "metadata": {},
     "output_type": "display_data"
    },
    {
     "data": {
      "image/png": "[encoded data removed]",
      "text/latex": [
       "$$1$$"
      ],
      "text/plain": [
       "1"
      ]
     },
     "metadata": {},
     "output_type": "display_data"
    },
    {
     "data": {
      "image/png": "[encoded data removed]",
      "text/latex": [
       "$$\\infty$$"
      ],
      "text/plain": [
       "∞"
      ]
     },
     "metadata": {},
     "output_type": "display_data"
    },
    {
     "data": {
      "image/png": "[encoded data removed]",
      "text/latex": [
       "$$-\\infty$$"
      ],
      "text/plain": [
       "-∞"
      ]
     },
     "metadata": {},
     "output_type": "display_data"
    }
   ],
   "source": [
    "from sympy import *\n",
    "\n",
    "\n",
    "# 初始化\n",
    "x = symbols('x')\n",
    "\n",
    "# 表达式\n",
    "expr1 = sin(x)/x\n",
    "expr2 = 1/x\n",
    "display(expr1)\n",
    "\n",
    "# 求趋于某个值的极限\n",
    "r1 = limit(expr1, x, 0)\n",
    "\n",
    "# 正向趋进\n",
    "r2 = limit(expr2, x, 0, '+')\n",
    "\n",
    "# 负向趋进\n",
    "r3 = limit(expr2, x, 0, '-')\n",
    "\n",
    "display(r1)\n",
    "display(r2)\n",
    "display(r3)"
   ]
  },
  {
   "cell_type": "code",
   "execution_count": 2,
   "metadata": {},
   "outputs": [
    {
     "name": "stdout",
     "output_type": "stream",
     "text": [
      "r1: -sin(x)\n",
      "r2: 2*x*exp(x**2)\n"
     ]
    }
   ],
   "source": [
    "from sympy import *\n",
    "\n",
    "# 初始化\n",
    "x = symbols('x')\n",
    "\n",
    "# 表达式\n",
    "expr1 = cos(x)\n",
    "\n",
    "expr2 = exp(x**2)\n",
    "\n",
    "\n",
    "# 求导\n",
    "r1 = diff(expr1, x)\n",
    "r2 = diff(expr2, x)\n",
    "\n",
    "\n",
    "print(\"r1:\", r1)\n",
    "print(\"r2:\", r2)"
   ]
  },
  {
   "cell_type": "code",
   "execution_count": 12,
   "metadata": {},
   "outputs": [
    {
     "data": {
      "image/png": "[encoded data removed]",
      "text/latex": [
       "$$\\sin{\\left (x \\right )}$$"
      ],
      "text/plain": [
       "sin(x)"
      ]
     },
     "metadata": {},
     "output_type": "display_data"
    },
    {
     "data": {
      "image/png": "[encoded data removed]",
      "text/latex": [
       "$$1$$"
      ],
      "text/plain": [
       "1"
      ]
     },
     "metadata": {},
     "output_type": "display_data"
    },
    {
     "data": {
      "image/png": "[encoded data removed]",
      "text/latex": [
       "$$\\pi$$"
      ],
      "text/plain": [
       "π"
      ]
     },
     "metadata": {},
     "output_type": "display_data"
    },
    {
     "data": {
      "image/png": "[encoded data removed]",
      "text/latex": [
       "$$0.0833333333333333$$"
      ],
      "text/plain": [
       "0.0833333333333333"
      ]
     },
     "metadata": {},
     "output_type": "display_data"
    }
   ],
   "source": [
    "\n",
    "# 初始化\n",
    "x, y = symbols('x y')\n",
    "\n",
    "# 表达式\n",
    "expr1 = cos(x)\n",
    "expr2 = exp(-x)\n",
    "expr3 = exp(-x**2-y**2)\n",
    "expr4=1/3*x**3\n",
    "\n",
    "# 求不定积分\n",
    "r1 = integrate(expr1, x)\n",
    "\n",
    "# 求定积分\n",
    "r2 = integrate(expr2, (x, 0, oo))\n",
    "\n",
    "# 求多重积分\n",
    "r3 = integrate(expr3, (x, -oo, oo), (y, -oo, oo))\n",
    "\n",
    "r4=integrate(expr4,(x,0,1))\n",
    "\n",
    "display(r1)\n",
    "display(r2)\n",
    "display(r3)\n",
    "display(r4)"
   ]
  },
  {
   "cell_type": "code",
   "execution_count": 14,
   "metadata": {},
   "outputs": [
    {
     "name": "stdout",
     "output_type": "stream",
     "text": [
      "178.303810051593 fps\n"
     ]
    }
   ],
   "source": [
    "from time import time\n",
    "from numpy import uint8\n",
    "from numpy.random import rand\n",
    "import cv2\n",
    "\n",
    "xy=(512,512)\n",
    "Nf = 500\n",
    "\n",
    "def fpsopencv(dat):\n",
    "    tic = time()\n",
    "    for i in dat:\n",
    "        cv2.imshow('test',i)\n",
    "        cv2.waitKey(1) #integer milliseconds, 0 makes wait forever\n",
    "    cv2.destroyAllWindows()\n",
    "    return Nf / (time()-tic)\n",
    "\n",
    "\n",
    "imgs = (rand(Nf,xy[0],xy[1])*255).astype(uint8)\n",
    "fps = fpsopencv(imgs)\n",
    "\n",
    "print(fps,'fps')"
   ]
  },
  {
   "cell_type": "markdown",
   "metadata": {},
   "source": [
    "# 毛春"
   ]
  },
  {
   "cell_type": "code",
   "execution_count": 51,
   "metadata": {},
   "outputs": [],
   "source": [
    "square=100\n",
    "circle=np.pi*5**2\n",
    "circular_sector=np.pi*100/4\n",
    "irregular=square-circular_sector\n",
    "corner=(square-circle)/4\n",
    "fusiform=square-irregular*2\n",
    "crescent=irregular-corner"
   ]
  },
  {
   "cell_type": "code",
   "execution_count": 69,
   "metadata": {},
   "outputs": [
    {
     "data": {
      "image/png": "[encoded data removed]",
      "text/latex": [
       "$$100.0$$"
      ],
      "text/plain": [
       "100.0"
      ]
     },
     "execution_count": 69,
     "metadata": {},
     "output_type": "execute_result"
    }
   ],
   "source": [
    "corner*4+circle"
   ]
  },
  {
   "cell_type": "code",
   "execution_count": 78,
   "metadata": {},
   "outputs": [
    {
     "data": {
      "text/plain": [
       "None"
      ]
     },
     "metadata": {},
     "output_type": "display_data"
    }
   ],
   "source": [
    "x,y,m,n=sp.symbols('x y m n')\n",
    "row1=(2,1,0,0,corner)\n",
    "row2=(2,0,1,0,crescent) #pointless\n",
    "row3=(0,2,0,1,fusiform)\n",
    "row4=(0,0,2,1,circle)\n",
    "row5=(8,4,2,1,square) #pointlless\n",
    "row6=(2,2,1,1,circular_sector-corner)\n",
    "system=Matrix((row1,row3,row4,row6))\n",
    "result=solve_linear_system(system,x,y,m,n)\n",
    "display(result)"
   ]
  },
  {
   "cell_type": "code",
   "execution_count": 96,
   "metadata": {},
   "outputs": [
    {
     "data": {
      "image/png": "[encoded data removed]",
      "text/latex": [
       "$$\\left\\{\\left ( 0.25 n - 11.5873852123405, \\quad - 0.5 n + 28.5398163397448, \\quad - 0.5 n + 39.2699081698724, \\quad n\\right )\\right\\}$$"
      ],
      "text/plain": [
       "{(0.25⋅n - 11.5873852123405, -0.5⋅n + 28.5398163397448, -0.5⋅n + 39.2699081698\n",
       "724, n)}"
      ]
     },
     "execution_count": 96,
     "metadata": {},
     "output_type": "execute_result"
    }
   ],
   "source": [
    "x,y,m,n=sp.symbols('x y m n')\n",
    "linsolve([2*x+y-corner\n",
    "          ,2*y+n-fusiform\n",
    "          ,2*m+n-circle\n",
    "#           ,2*x+2*y+m+n+corner-circular_sector\n",
    "         ],\n",
    "         x,y,m,n)"
   ]
  },
  {
   "cell_type": "code",
   "execution_count": 104,
   "metadata": {},
   "outputs": [
    {
     "data": {
      "image/png": "[encoded data removed]",
      "text/latex": [
       "$$\\left\\{\\left ( k\\right )\\right\\}$$"
      ],
      "text/plain": [
       "{(k,)}"
      ]
     },
     "execution_count": 104,
     "metadata": {},
     "output_type": "execute_result"
    }
   ],
   "source": [
    "k=sp.symbols('k')\n",
    "linsolve([2*(0.25*k-12)+2*(-0.5*k+29)+1*(-0.5*k+39)+k-73],k)\n",
    "    "
   ]
  },
  {
   "cell_type": "code",
   "execution_count": 105,
   "metadata": {},
   "outputs": [
    {
     "data": {
      "image/png": "[encoded data removed]",
      "text/latex": [
       "$$0.0$$"
      ],
      "text/plain": [
       "0.0"
      ]
     },
     "execution_count": 105,
     "metadata": {},
     "output_type": "execute_result"
    }
   ],
   "source": [
    "0.5-1-0.5+1"
   ]
  },
  {
   "cell_type": "code",
   "execution_count": 77,
   "metadata": {},
   "outputs": [
    {
     "ename": "LinAlgError",
     "evalue": "Singular matrix",
     "output_type": "error",
     "traceback": [
      "\u001b[0;31m---------------------------------------------------------------------------\u001b[0m",
      "\u001b[0;31mLinAlgError\u001b[0m                               Traceback (most recent call last)",
      "\u001b[0;32m<ipython-input-77-3f83815093d6>\u001b[0m in \u001b[0;36m<module>\u001b[0;34m\u001b[0m\n\u001b[1;32m      4\u001b[0m   [2,2,1,1]] \n\u001b[1;32m      5\u001b[0m \u001b[0ms\u001b[0m\u001b[0;34m=\u001b[0m\u001b[0;34m[\u001b[0m\u001b[0mcorner\u001b[0m\u001b[0;34m,\u001b[0m\u001b[0mfusiform\u001b[0m\u001b[0;34m,\u001b[0m\u001b[0mcircle\u001b[0m\u001b[0;34m,\u001b[0m\u001b[0mcircular_sector\u001b[0m\u001b[0;34m-\u001b[0m\u001b[0mcorner\u001b[0m\u001b[0;34m]\u001b[0m\u001b[0;34m\u001b[0m\u001b[0;34m\u001b[0m\u001b[0m\n\u001b[0;32m----> 6\u001b[0;31m \u001b[0mr\u001b[0m\u001b[0;34m=\u001b[0m\u001b[0mnp\u001b[0m\u001b[0;34m.\u001b[0m\u001b[0mlinalg\u001b[0m\u001b[0;34m.\u001b[0m\u001b[0msolve\u001b[0m\u001b[0;34m(\u001b[0m\u001b[0mA\u001b[0m\u001b[0;34m,\u001b[0m\u001b[0ms\u001b[0m\u001b[0;34m)\u001b[0m\u001b[0;34m\u001b[0m\u001b[0;34m\u001b[0m\u001b[0m\n\u001b[0m\u001b[1;32m      7\u001b[0m \u001b[0mr\u001b[0m\u001b[0;34m\u001b[0m\u001b[0;34m\u001b[0m\u001b[0m\n",
      "\u001b[0;32m~/anaconda3/lib/python3.7/site-packages/numpy/linalg/linalg.py\u001b[0m in \u001b[0;36msolve\u001b[0;34m(a, b)\u001b[0m\n\u001b[1;32m    401\u001b[0m     \u001b[0msignature\u001b[0m \u001b[0;34m=\u001b[0m \u001b[0;34m'DD->D'\u001b[0m \u001b[0;32mif\u001b[0m \u001b[0misComplexType\u001b[0m\u001b[0;34m(\u001b[0m\u001b[0mt\u001b[0m\u001b[0;34m)\u001b[0m \u001b[0;32melse\u001b[0m \u001b[0;34m'dd->d'\u001b[0m\u001b[0;34m\u001b[0m\u001b[0;34m\u001b[0m\u001b[0m\n\u001b[1;32m    402\u001b[0m     \u001b[0mextobj\u001b[0m \u001b[0;34m=\u001b[0m \u001b[0mget_linalg_error_extobj\u001b[0m\u001b[0;34m(\u001b[0m\u001b[0m_raise_linalgerror_singular\u001b[0m\u001b[0;34m)\u001b[0m\u001b[0;34m\u001b[0m\u001b[0;34m\u001b[0m\u001b[0m\n\u001b[0;32m--> 403\u001b[0;31m     \u001b[0mr\u001b[0m \u001b[0;34m=\u001b[0m \u001b[0mgufunc\u001b[0m\u001b[0;34m(\u001b[0m\u001b[0ma\u001b[0m\u001b[0;34m,\u001b[0m \u001b[0mb\u001b[0m\u001b[0;34m,\u001b[0m \u001b[0msignature\u001b[0m\u001b[0;34m=\u001b[0m\u001b[0msignature\u001b[0m\u001b[0;34m,\u001b[0m \u001b[0mextobj\u001b[0m\u001b[0;34m=\u001b[0m\u001b[0mextobj\u001b[0m\u001b[0;34m)\u001b[0m\u001b[0;34m\u001b[0m\u001b[0;34m\u001b[0m\u001b[0m\n\u001b[0m\u001b[1;32m    404\u001b[0m \u001b[0;34m\u001b[0m\u001b[0m\n\u001b[1;32m    405\u001b[0m     \u001b[0;32mreturn\u001b[0m \u001b[0mwrap\u001b[0m\u001b[0;34m(\u001b[0m\u001b[0mr\u001b[0m\u001b[0;34m.\u001b[0m\u001b[0mastype\u001b[0m\u001b[0;34m(\u001b[0m\u001b[0mresult_t\u001b[0m\u001b[0;34m,\u001b[0m \u001b[0mcopy\u001b[0m\u001b[0;34m=\u001b[0m\u001b[0;32mFalse\u001b[0m\u001b[0;34m)\u001b[0m\u001b[0;34m)\u001b[0m\u001b[0;34m\u001b[0m\u001b[0;34m\u001b[0m\u001b[0m\n",
      "\u001b[0;32m~/anaconda3/lib/python3.7/site-packages/numpy/linalg/linalg.py\u001b[0m in \u001b[0;36m_raise_linalgerror_singular\u001b[0;34m(err, flag)\u001b[0m\n\u001b[1;32m     95\u001b[0m \u001b[0;34m\u001b[0m\u001b[0m\n\u001b[1;32m     96\u001b[0m \u001b[0;32mdef\u001b[0m \u001b[0m_raise_linalgerror_singular\u001b[0m\u001b[0;34m(\u001b[0m\u001b[0merr\u001b[0m\u001b[0;34m,\u001b[0m \u001b[0mflag\u001b[0m\u001b[0;34m)\u001b[0m\u001b[0;34m:\u001b[0m\u001b[0;34m\u001b[0m\u001b[0;34m\u001b[0m\u001b[0m\n\u001b[0;32m---> 97\u001b[0;31m     \u001b[0;32mraise\u001b[0m \u001b[0mLinAlgError\u001b[0m\u001b[0;34m(\u001b[0m\u001b[0;34m\"Singular matrix\"\u001b[0m\u001b[0;34m)\u001b[0m\u001b[0;34m\u001b[0m\u001b[0;34m\u001b[0m\u001b[0m\n\u001b[0m\u001b[1;32m     98\u001b[0m \u001b[0;34m\u001b[0m\u001b[0m\n\u001b[1;32m     99\u001b[0m \u001b[0;32mdef\u001b[0m \u001b[0m_raise_linalgerror_nonposdef\u001b[0m\u001b[0;34m(\u001b[0m\u001b[0merr\u001b[0m\u001b[0;34m,\u001b[0m \u001b[0mflag\u001b[0m\u001b[0;34m)\u001b[0m\u001b[0;34m:\u001b[0m\u001b[0;34m\u001b[0m\u001b[0;34m\u001b[0m\u001b[0m\n",
      "\u001b[0;31mLinAlgError\u001b[0m: Singular matrix"
     ]
    }
   ],
   "source": [
    "A=[[2,1,0,0,],\n",
    "  [0,2,0,1],\n",
    "  [0,0,2,1],\n",
    "  [2,2,1,1]] \n",
    "s=[corner,fusiform,circle,circular_sector-corner]\n",
    "r=np.linalg.solve(A,s)\n",
    "r"
   ]
  },
  {
   "cell_type": "code",
   "execution_count": 54,
   "metadata": {},
   "outputs": [
    {
     "data": {
      "image/png": "[encoded data removed]",
      "text/latex": [
       "$$\\left \\{ x : 2, \\quad y : 8\\right \\}$$"
      ],
      "text/plain": [
       "{x: 2, y: 8}"
      ]
     },
     "execution_count": 54,
     "metadata": {},
     "output_type": "execute_result"
    }
   ],
   "source": [
    "x,y=sp.symbols('x y')\n",
    "row1=(2,-1,-4)\n",
    "row2=(3,-1,-2)\n",
    "# row3=(1,1,10)\n",
    "system=Matrix((row1,row2))\n",
    "solve_linear_system(system,x,y)"
   ]
  },
  {
   "cell_type": "code",
   "execution_count": 38,
   "metadata": {},
   "outputs": [
    {
     "data": {
      "image/png": "[encoded data removed]",
      "text/latex": [
       "$$100.13981633974484$$"
      ],
      "text/plain": [
       "100.13981633974484"
      ]
     },
     "execution_count": 38,
     "metadata": {},
     "output_type": "execute_result"
    }
   ],
   "source": [
    "5.4*4+circle"
   ]
  },
  {
   "cell_type": "code",
   "execution_count": 47,
   "metadata": {},
   "outputs": [
    {
     "data": {
      "image/png": "[encoded data removed]",
      "text/latex": [
       "$$0.0$$"
      ],
      "text/plain": [
       "0.0"
      ]
     },
     "execution_count": 47,
     "metadata": {},
     "output_type": "execute_result"
    }
   ],
   "source": [
    "crescent"
   ]
  },
  {
   "cell_type": "markdown",
   "metadata": {},
   "source": [
    "# 优化"
   ]
  },
  {
   "cell_type": "code",
   "execution_count": 1,
   "metadata": {},
   "outputs": [
    {
     "name": "stdout",
     "output_type": "stream",
     "text": [
      "Optimization terminated successfully.\n",
      "         Current function value: -1.000000\n",
      "         Iterations: 26\n",
      "         Function evaluations: 52\n"
     ]
    },
    {
     "data": {
      "text/plain": [
       "array([-1.5708125])"
      ]
     },
     "metadata": {},
     "output_type": "display_data"
    },
    {
     "data": {
      "text/plain": [
       "-0.9999999998692137"
      ]
     },
     "metadata": {},
     "output_type": "display_data"
    }
   ],
   "source": [
    "import scipy.optimize as opt\n",
    "\n",
    "t=opt.fmin(np.sin,  # Objective function to be minimized.\n",
    "              x0=0,  # Initial guess.\n",
    "              maxiter=2000,  # Maximum number of iterations to perform.\n",
    "              full_output=True)  # Return fopt, func_calls, grad_calls, and warnflag in addition to xopt.\n",
    "\n",
    "#display(t)\n",
    "xopt=t[0]\n",
    "fopt=t[1]\n",
    "display(xopt)\n",
    "display(fopt)"
   ]
  },
  {
   "cell_type": "markdown",
   "metadata": {},
   "source": [
    "# 符号运算"
   ]
  },
  {
   "cell_type": "code",
   "execution_count": 6,
   "metadata": {},
   "outputs": [
    {
     "data": {
      "image/png": "[encoded data removed]",
      "text/latex": [
       "$$x^{2} + 2 x + 1$$"
      ],
      "text/plain": [
       " 2          \n",
       "x  + 2⋅x + 1"
      ]
     },
     "metadata": {},
     "output_type": "display_data"
    },
    {
     "data": {
      "image/png": "[encoded data removed]",
      "text/latex": [
       "$$2 x + 2$$"
      ],
      "text/plain": [
       "2⋅x + 2"
      ]
     },
     "metadata": {},
     "output_type": "display_data"
    },
    {
     "data": {
      "image/png": "[encoded data removed]",
      "text/latex": [
       "$$x^{2} + 2 x$$"
      ],
      "text/plain": [
       " 2      \n",
       "x  + 2⋅x"
      ]
     },
     "metadata": {},
     "output_type": "display_data"
    }
   ],
   "source": [
    "x,y,z,t=sp.symbols('x,y,z,t')\n",
    "f=x**2+2*x+1\n",
    "display(f)\n",
    "g=sp.diff(f,x)\n",
    "display(g)\n",
    "g1=sp.integrate(g,x)\n",
    "display(g1)"
   ]
  },
  {
   "cell_type": "code",
   "execution_count": 25,
   "metadata": {},
   "outputs": [
    {
     "data": {
      "image/png": "[encoded data removed]",
      "text/latex": [
       "$$\\frac{y - 1}{3}$$"
      ],
      "text/plain": [
       "y - 1\n",
       "─────\n",
       "  3  "
      ]
     },
     "execution_count": 25,
     "metadata": {},
     "output_type": "execute_result"
    }
   ],
   "source": [
    "r=sp.solve(3*x+1-y,[x])\n",
    "f=r[0]\n",
    "f.factor()"
   ]
  },
  {
   "cell_type": "code",
   "execution_count": 47,
   "metadata": {},
   "outputs": [
    {
     "data": {
      "image/png": "[encoded data removed]",
      "text/latex": [
       "$$\\frac{3^{n} - 1}{2}$$"
      ],
      "text/plain": [
       " n    \n",
       "3  - 1\n",
       "──────\n",
       "  2   "
      ]
     },
     "execution_count": 47,
     "metadata": {},
     "output_type": "execute_result"
    }
   ],
   "source": [
    "i,n=sp.symbols('i,n')\n",
    "sum=sp.summation(3**i,(i,0,n-1))\n",
    "sp.factor(sum)"
   ]
  },
  {
   "cell_type": "code",
   "execution_count": 90,
   "metadata": {},
   "outputs": [
    {
     "data": {
      "image/png": "[encoded data removed]",
      "text/latex": [
       "$$f{\\left (x \\right )} = C_{1} + x^{3}$$"
      ],
      "text/plain": [
       "             3\n",
       "f(x) = C₁ + x "
      ]
     },
     "execution_count": 90,
     "metadata": {},
     "output_type": "execute_result"
    }
   ],
   "source": [
    "f=sp.Function('f')(x)\n",
    "f1=sp.Derivative(f,x)\n",
    "sp.dsolve(f1-3*x**2)"
   ]
  },
  {
   "cell_type": "code",
   "execution_count": 147,
   "metadata": {},
   "outputs": [
    {
     "data": {
      "image/png": "[encoded data removed]",
      "text/latex": [
       "$$\\frac{g t^{2}}{2}$$"
      ],
      "text/plain": [
       "   2\n",
       "g⋅t \n",
       "────\n",
       " 2  "
      ]
     },
     "execution_count": 147,
     "metadata": {},
     "output_type": "execute_result"
    }
   ],
   "source": [
    "g,t=sp.symbols('g,t')\n",
    "v=sp.Function('v')(t)\n",
    "#g=sp.Dummy('g')\n",
    "v=g*t\n",
    "v.integrate(t)"
   ]
  },
  {
   "cell_type": "code",
   "execution_count": 41,
   "metadata": {},
   "outputs": [],
   "source": [
    "f.subs?"
   ]
  },
  {
   "cell_type": "markdown",
   "metadata": {},
   "source": [
    "# covid19"
   ]
  },
  {
   "cell_type": "code",
   "execution_count": 129,
   "metadata": {},
   "outputs": [],
   "source": [
    "from IPython.core.debugger import set_trace\n",
    "from IPython.core.debugger import Pdb as CorePdb\n",
    "import sys\n",
    "\n",
    "def breakpoint(condition=True):\n",
    "    \"\"\"\n",
    "    Set a breakpoint at the location the function is called if `condition == True`.\n",
    "    \"\"\"\n",
    "    if condition:\n",
    "        debugger = CorePdb()\n",
    "        frame = sys._getframe()\n",
    "        debugger.set_trace(frame.f_back)\n",
    "        return debugger"
   ]
  },
  {
   "cell_type": "code",
   "execution_count": 140,
   "metadata": {},
   "outputs": [
    {
     "name": "stdout",
     "output_type": "stream",
     "text": [
      "the infected number is 2.9997\n",
      "the immunity number is 1\n",
      "the suscepteble number is 9996.0003\n",
      "----------------------------\n",
      "the infected number is 8.995500629973\n",
      "the immunity number is 3.9997\n",
      "the suscepteble number is 9987.004799370026\n",
      "----------------------------\n",
      "the infected number is 26.95143238928294\n",
      "the immunity number is 12.995200629972999\n",
      "the suscepteble number is 9960.053366980743\n",
      "----------------------------\n",
      "the infected number is 80.53131147414942\n",
      "the immunity number is 39.94663301925594\n",
      "the suscepteble number is 9879.522055506595\n",
      "----------------------------\n",
      "the infected number is 238.68326036031914\n",
      "the immunity number is 120.47794449340536\n",
      "the suscepteble number is 9640.838795146276\n",
      "----------------------------\n",
      "the infected number is 690.3320508701291\n",
      "the immunity number is 359.1612048537245\n",
      "the suscepteble number is 8950.506744276146\n",
      "----------------------------\n",
      "the infected number is 1853.6465031309226\n",
      "the immunity number is 1049.4932557238535\n",
      "the suscepteble number is 7096.860241145224\n",
      "----------------------------\n",
      "the infected number is 3946.5210507623165\n",
      "the immunity number is 2903.139758854776\n",
      "the suscepteble number is 3150.339190382908\n",
      "----------------------------\n",
      "herd immunity is reached\n",
      "the infected number is 3150.339190382907\n",
      "the immunity number is 6849.660809617093\n",
      "the suscepteble number is 0.0\n",
      "----------------------------\n",
      "herd immunity is reached\n",
      "the infected number is 0.0\n",
      "the immunity number is 10000.0\n",
      "the suscepteble number is 0.0\n",
      "----------------------------\n",
      "herd immunity is reached\n",
      "the infected number is 0.0\n",
      "the immunity number is 10000.0\n",
      "the suscepteble number is 0.0\n",
      "----------------------------\n",
      "herd immunity is reached\n",
      "the infected number is 0.0\n",
      "the immunity number is 10000.0\n",
      "the suscepteble number is 0.0\n",
      "----------------------------\n",
      "herd immunity is reached\n",
      "the infected number is 0.0\n",
      "the immunity number is 10000.0\n",
      "the suscepteble number is 0.0\n",
      "----------------------------\n",
      "herd immunity is reached\n",
      "the infected number is 0.0\n",
      "the immunity number is 10000.0\n",
      "the suscepteble number is 0.0\n",
      "----------------------------\n",
      "herd immunity is reached\n",
      "the infected number is 0.0\n",
      "the immunity number is 10000.0\n",
      "the suscepteble number is 0.0\n",
      "----------------------------\n",
      "herd immunity is reached\n",
      "the infected number is 0.0\n",
      "the immunity number is 10000.0\n",
      "the suscepteble number is 0.0\n",
      "----------------------------\n",
      "herd immunity is reached\n",
      "the infected number is 0.0\n",
      "the immunity number is 10000.0\n",
      "the suscepteble number is 0.0\n",
      "----------------------------\n",
      "herd immunity is reached\n",
      "the infected number is 0.0\n",
      "the immunity number is 10000.0\n",
      "the suscepteble number is 0.0\n",
      "----------------------------\n",
      "herd immunity is reached\n",
      "the infected number is 0.0\n",
      "the immunity number is 10000.0\n",
      "the suscepteble number is 0.0\n",
      "----------------------------\n"
     ]
    }
   ],
   "source": [
    "class Model:\n",
    "    def __init__(self,r0,total):\n",
    "        self.r0=r0\n",
    "        self.total=total\n",
    "        self.infected=1\n",
    "        self.immunity=0\n",
    "    def printMe(self):\n",
    "        print(f'the infected number is {self.infected}')\n",
    "        print(f'the immunity number is {self.immunity}')\n",
    "        print(f'the suscepteble number is {self.total-self.infected-self.immunity}')\n",
    "        print('----------------------------')\n",
    "    def move_a_period(self):\n",
    "        #set_trace()\n",
    "        immunity_rate=(self.immunity+self.infected)/self.total\n",
    "        r1=self.r0*(1-immunity_rate)\n",
    "        if r1<=1:\n",
    "            print('herd immunity is reached')\n",
    "        self.immunity=self.immunity+self.infected\n",
    "        self.infected=self.infected*r1\n",
    "        if self.infected>self.total-self.immunity:\n",
    "            self.infected=self.total-self.immunity\n",
    "\n",
    "model=Model(3,10000)\n",
    "for i in range(1,20):\n",
    "    model.move_a_period()\n",
    "    #breakpoint(i==4)\n",
    "    model.printMe()"
   ]
  },
  {
   "cell_type": "markdown",
   "metadata": {},
   "source": [
    "# pandas"
   ]
  },
  {
   "cell_type": "code",
   "execution_count": 70,
   "metadata": {},
   "outputs": [
    {
     "data": {
      "text/html": [
       "<div>\n",
       "<style scoped>\n",
       "    .dataframe tbody tr th:only-of-type {\n",
       "        vertical-align: middle;\n",
       "    }\n",
       "\n",
       "    .dataframe tbody tr th {\n",
       "        vertical-align: top;\n",
       "    }\n",
       "\n",
       "    .dataframe thead th {\n",
       "        text-align: right;\n",
       "    }\n",
       "</style>\n",
       "<table border=\"1\" class=\"dataframe\">\n",
       "  <thead>\n",
       "    <tr style=\"text-align: right;\">\n",
       "      <th></th>\n",
       "      <th>a</th>\n",
       "      <th>b</th>\n",
       "      <th>c</th>\n",
       "    </tr>\n",
       "  </thead>\n",
       "  <tbody>\n",
       "    <tr>\n",
       "      <th>0</th>\n",
       "      <td>1</td>\n",
       "      <td>2</td>\n",
       "      <td>3</td>\n",
       "    </tr>\n",
       "    <tr>\n",
       "      <th>0</th>\n",
       "      <td>4</td>\n",
       "      <td>5</td>\n",
       "      <td>6</td>\n",
       "    </tr>\n",
       "  </tbody>\n",
       "</table>\n",
       "</div>"
      ],
      "text/plain": [
       "   a  b  c\n",
       "0  1  2  3\n",
       "0  4  5  6"
      ]
     },
     "execution_count": 70,
     "metadata": {},
     "output_type": "execute_result"
    }
   ],
   "source": [
    "import pandas as pd\n",
    "\n",
    "class A:\n",
    "    def __init__(self,a,b,c):\n",
    "        self.a=a\n",
    "        self.b=b\n",
    "        self.c=c\n",
    "        \n",
    "\n",
    "a=A(1,2,3)\n",
    "b=A(4,5,6)\n",
    "df=pd.DataFrame()\n",
    "df=df.append([a.__dict__])\n",
    "df=df.append([b.__dict__])\n",
    "df"
   ]
  },
  {
   "cell_type": "code",
   "execution_count": 71,
   "metadata": {},
   "outputs": [
    {
     "data": {
      "text/html": [
       "<div>\n",
       "<style scoped>\n",
       "    .dataframe tbody tr th:only-of-type {\n",
       "        vertical-align: middle;\n",
       "    }\n",
       "\n",
       "    .dataframe tbody tr th {\n",
       "        vertical-align: top;\n",
       "    }\n",
       "\n",
       "    .dataframe thead th {\n",
       "        text-align: right;\n",
       "    }\n",
       "</style>\n",
       "<table border=\"1\" class=\"dataframe\">\n",
       "  <thead>\n",
       "    <tr style=\"text-align: right;\">\n",
       "      <th></th>\n",
       "      <th>a</th>\n",
       "      <th>b</th>\n",
       "      <th>c</th>\n",
       "    </tr>\n",
       "  </thead>\n",
       "  <tbody>\n",
       "    <tr>\n",
       "      <th>0</th>\n",
       "      <td>1</td>\n",
       "      <td>2</td>\n",
       "      <td>3</td>\n",
       "    </tr>\n",
       "    <tr>\n",
       "      <th>0</th>\n",
       "      <td>4</td>\n",
       "      <td>5</td>\n",
       "      <td>6</td>\n",
       "    </tr>\n",
       "  </tbody>\n",
       "</table>\n",
       "</div>"
      ],
      "text/plain": [
       "   a  b  c\n",
       "0  1  2  3\n",
       "0  4  5  6"
      ]
     },
     "execution_count": 71,
     "metadata": {},
     "output_type": "execute_result"
    }
   ],
   "source": [
    "df"
   ]
  },
  {
   "cell_type": "code",
   "execution_count": null,
   "metadata": {},
   "outputs": [],
   "source": []
  }
 ],
 "metadata": {
  "kernelspec": {
   "display_name": "Python 3",
   "language": "python",
   "name": "python3"
  },
  "language_info": {
   "codemirror_mode": {
    "name": "ipython",
    "version": 3
   },
   "file_extension": ".py",
   "mimetype": "text/x-python",
   "name": "python",
   "nbconvert_exporter": "python",
   "pygments_lexer": "ipython3",
   "version": "3.7.6"
  },
  "toc": {
   "base_numbering": 1,
   "nav_menu": {},
   "number_sections": true,
   "sideBar": true,
   "skip_h1_title": false,
   "title_cell": "Table of Contents",
   "title_sidebar": "Contents",
   "toc_cell": false,
   "toc_position": {
    "height": "calc(100% - 180px)",
    "left": "10px",
    "top": "150px",
    "width": "165px"
   },
   "toc_section_display": true,
   "toc_window_display": true
  },
  "varInspector": {
   "cols": {
    "lenName": 16,
    "lenType": 16,
    "lenVar": 40
   },
   "kernels_config": {
    "python": {
     "delete_cmd_postfix": "",
     "delete_cmd_prefix": "del ",
     "library": "var_list.py",
     "varRefreshCmd": "print(var_dic_list())"
    },
    "r": {
     "delete_cmd_postfix": ") ",
     "delete_cmd_prefix": "rm(",
     "library": "var_list.r",
     "varRefreshCmd": "cat(var_dic_list()) "
    }
   },
   "types_to_exclude": [
    "module",
    "function",
    "builtin_function_or_method",
    "instance",
    "_Feature"
   ],
   "window_display": false
  }
 },
 "nbformat": 4,
 "nbformat_minor": 2
}
