{
 "cells": [
  {
   "cell_type": "code",
   "execution_count": 6,
   "metadata": {},
   "outputs": [],
   "source": [
    "%config IPCompleter.greedy=True\n",
    "get_ipython().Completer.use_jedi=False"
   ]
  },
  {
   "cell_type": "code",
   "execution_count": 7,
   "metadata": {},
   "outputs": [
    {
     "data": {
      "application/javascript": [
       "\n",
       "IPython.keyboard_manager.edit_shortcuts.add_shortcut('ctrl-enter', {\n",
       "\thelp : \"run cell and keep focus\", //This is optional\n",
       "\thandler : function (event) {\n",
       "\t\tIPython.notebook.execute_cell();\n",
       "\t\tIPython.notebook.edit_mode();\n",
       "\t\treturn false;\n",
       "\t}}\n",
       ");\n",
       "\n",
       "IPython.keyboard_manager.edit_shortcuts.add_shortcut('ctrl-x', {\n",
       "\thelp : \"jedi\", //This is optional\n",
       "\thandler : function (event) {\n",
       "\t\tvar index=IPython.notebook.get_edit_index();\n",
       "\t\tIPython.notebook.execute_cells([0]);\n",
       "\t\tIPython.notebook.get_cell(index).focus_cell();\n",
       "\t\tIPython.notebook.edit_mode();\n",
       "\t\treturn false;\n",
       "\t}}\n",
       ");\n"
      ],
      "text/plain": [
       "<IPython.core.display.Javascript object>"
      ]
     },
     "metadata": {},
     "output_type": "display_data"
    }
   ],
   "source": [
    "%%javascript\n",
    "\n",
    "IPython.keyboard_manager.edit_shortcuts.add_shortcut('ctrl-enter', {\n",
    "\thelp : \"run cell and keep focus\", //This is optional\n",
    "\thandler : function (event) {\n",
    "\t\tIPython.notebook.execute_cell();\n",
    "\t\tIPython.notebook.edit_mode();\n",
    "\t\treturn false;\n",
    "\t}}\n",
    ");\n",
    "\n",
    "IPython.keyboard_manager.edit_shortcuts.add_shortcut('ctrl-x', {\n",
    "\thelp : \"jedi\", //This is optional\n",
    "\thandler : function (event) {\n",
    "\t\tvar index=IPython.notebook.get_edit_index();\n",
    "\t\tIPython.notebook.execute_cells([0]);\n",
    "\t\tIPython.notebook.get_cell(index).focus_cell();\n",
    "\t\tIPython.notebook.edit_mode();\n",
    "\t\treturn false;\n",
    "\t}}\n",
    ");"
   ]
  },
  {
   "cell_type": "code",
   "execution_count": 1,
   "metadata": {},
   "outputs": [],
   "source": [
    "from notebook.auth import passwd"
   ]
  },
  {
   "cell_type": "code",
   "execution_count": 2,
   "metadata": {},
   "outputs": [
    {
     "data": {
      "text/plain": [
       "'sha1:9eba103a32e3:ae0761f75b406ff8f385422e0e9886b9e7bbf2ca'"
      ]
     },
     "execution_count": 2,
     "metadata": {},
     "output_type": "execute_result"
    }
   ],
   "source": [
    "passwd('700127')"
   ]
  },
  {
   "cell_type": "code",
   "execution_count": 13,
   "metadata": {},
   "outputs": [
    {
     "data": {
      "text/plain": [
       "12.0"
      ]
     },
     "execution_count": 13,
     "metadata": {},
     "output_type": "execute_result"
    }
   ],
   "source": [
    "import sympy as sy\n",
    "rate_day=0.04/100\n",
    "rate_year=rate_day*365\n",
    "principal=1000\n",
    "principal*rate_day*30"
   ]
  }
 ],
 "metadata": {
  "kernelspec": {
   "display_name": "Python 3",
   "language": "python",
   "name": "python3"
  },
  "language_info": {
   "codemirror_mode": {
    "name": "ipython",
    "version": 3
   },
   "file_extension": ".py",
   "mimetype": "text/x-python",
   "name": "python",
   "nbconvert_exporter": "python",
   "pygments_lexer": "ipython3",
   "version": "3.7.6"
  },
  "toc": {
   "base_numbering": 1,
   "nav_menu": {},
   "number_sections": true,
   "sideBar": true,
   "skip_h1_title": false,
   "title_cell": "Table of Contents",
   "title_sidebar": "Contents",
   "toc_cell": false,
   "toc_position": {},
   "toc_section_display": true,
   "toc_window_display": false
  },
  "varInspector": {
   "cols": {
    "lenName": 16,
    "lenType": 16,
    "lenVar": 40
   },
   "kernels_config": {
    "python": {
     "delete_cmd_postfix": "",
     "delete_cmd_prefix": "del ",
     "library": "var_list.py",
     "varRefreshCmd": "print(var_dic_list())"
    },
    "r": {
     "delete_cmd_postfix": ") ",
     "delete_cmd_prefix": "rm(",
     "library": "var_list.r",
     "varRefreshCmd": "cat(var_dic_list()) "
    }
   },
   "position": {
    "height": "195.4px",
    "left": "698.2px",
    "right": "20px",
    "top": "32px",
    "width": "315px"
   },
   "types_to_exclude": [
    "module",
    "function",
    "builtin_function_or_method",
    "instance",
    "_Feature"
   ],
   "window_display": true
  }
 },
 "nbformat": 4,
 "nbformat_minor": 2
}
